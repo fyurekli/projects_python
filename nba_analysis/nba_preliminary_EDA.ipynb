{
 "cells": [
  {
   "cell_type": "markdown",
   "metadata": {},
   "source": [
    "# Exploratory Data Analysis"
   ]
  },
  {
   "cell_type": "markdown",
   "metadata": {},
   "source": [
    "Random preliminary analysis on the NBA boxscore (df_box) and play by play (df_pbp) datasets"
   ]
  },
  {
   "cell_type": "markdown",
   "metadata": {},
   "source": [
    "### Import and clean the Data"
   ]
  },
  {
   "cell_type": "code",
   "execution_count": 110,
   "metadata": {},
   "outputs": [],
   "source": [
    "#import necessary packages\n",
    "import pandas as pd\n",
    "import numpy as np\n",
    "import matplotlib.pyplot as plt \n",
    "\n",
    "from IPython.core.interactiveshell import InteractiveShell\n",
    "InteractiveShell.ast_node_interactivity = \"all\""
   ]
  },
  {
   "cell_type": "code",
   "execution_count": 43,
   "metadata": {},
   "outputs": [],
   "source": [
    "#import the boxscores dataset\n",
    "df_box = pd.read_csv('data/df_box_scores_2000_2018_clean.csv').drop(columns=['Unnamed: 0'])\n",
    "#import the dataset with links, dates, and whether the game was in the playoffs or regular season\n",
    "df_playoffs = pd.read_csv('data/df_playoff_dates_1959_2019_clean.csv').rename(columns={'playoff_dates':'playoff_date'})"
   ]
  },
  {
   "cell_type": "code",
   "execution_count": 44,
   "metadata": {},
   "outputs": [
    {
     "data": {
      "text/plain": [
       "(531441, 42)"
      ]
     },
     "execution_count": 44,
     "metadata": {},
     "output_type": "execute_result"
    },
    {
     "data": {
      "text/plain": [
       "(61, 3)"
      ]
     },
     "execution_count": 44,
     "metadata": {},
     "output_type": "execute_result"
    }
   ],
   "source": [
    "df_box.shape\n",
    "df_playoffs.shape"
   ]
  },
  {
   "cell_type": "code",
   "execution_count": 45,
   "metadata": {},
   "outputs": [],
   "source": [
    "#change the playoff date to datetime format\n",
    "df_playoffs['playoff_date'] = pd.to_datetime(df_playoffs['playoff_date'])"
   ]
  },
  {
   "cell_type": "code",
   "execution_count": 46,
   "metadata": {},
   "outputs": [],
   "source": [
    "#get rid of the full URL in the 'link' column \n",
    "df_box['link'] = df_box['link'].apply(lambda x: x.split('boxscores/')[1].split('.html')[0])"
   ]
  },
  {
   "cell_type": "code",
   "execution_count": 47,
   "metadata": {},
   "outputs": [],
   "source": [
    "#fix some errors in the data\n",
    "df_box.loc[313944:313947, 'team'] = 'Dallas Mavericks'\n",
    "df_box.loc[206215:206218, 'team'] = 'Philadelphia 76ers'"
   ]
  },
  {
   "cell_type": "code",
   "execution_count": 48,
   "metadata": {},
   "outputs": [],
   "source": [
    "#create array to store seasons to iterate through in the for loop\n",
    "seasons = df_box['season'].unique()\n",
    "\n",
    "#iterate through each season, add in column describing if the season is in \n",
    "df_box_by_season = pd.DataFrame()\n",
    "for season in seasons:\n",
    "    df_season = df_box[df_box['season']==season]\n",
    "    df_season = df_season.merge(df_playoffs[['season','playoff_date']], how='left', on='season')\n",
    "    df_season['date'] = pd.to_datetime(df_season['date'])\n",
    "    #determine if the date in the game is earlier than the corresponding season's playoff date\n",
    "    df_season['time_of_year'] = np.where(df_season['playoff_date'] >= df_season['date'], 'regular_season', 'playoffs')\n",
    "    df_box_by_season = df_box_by_season.append(df_season)"
   ]
  },
  {
   "cell_type": "code",
   "execution_count": 49,
   "metadata": {},
   "outputs": [],
   "source": [
    "#get rid of the playoff date column and \n",
    "df_box = df_box_by_season.drop(columns=['playoff_date'])"
   ]
  },
  {
   "cell_type": "code",
   "execution_count": 50,
   "metadata": {},
   "outputs": [
    {
     "data": {
      "text/html": [
       "<div>\n",
       "<style scoped>\n",
       "    .dataframe tbody tr th:only-of-type {\n",
       "        vertical-align: middle;\n",
       "    }\n",
       "\n",
       "    .dataframe tbody tr th {\n",
       "        vertical-align: top;\n",
       "    }\n",
       "\n",
       "    .dataframe thead th {\n",
       "        text-align: right;\n",
       "    }\n",
       "</style>\n",
       "<table border=\"1\" class=\"dataframe\">\n",
       "  <thead>\n",
       "    <tr style=\"text-align: right;\">\n",
       "      <th></th>\n",
       "      <th>player</th>\n",
       "      <th>team</th>\n",
       "      <th>team_key</th>\n",
       "      <th>mp</th>\n",
       "      <th>fg</th>\n",
       "      <th>fga</th>\n",
       "      <th>fg%</th>\n",
       "      <th>3p</th>\n",
       "      <th>3pa</th>\n",
       "      <th>3p%</th>\n",
       "      <th>...</th>\n",
       "      <th>TOV%</th>\n",
       "      <th>USG%</th>\n",
       "      <th>ORtg</th>\n",
       "      <th>DRtg</th>\n",
       "      <th>key</th>\n",
       "      <th>game</th>\n",
       "      <th>date</th>\n",
       "      <th>season</th>\n",
       "      <th>link</th>\n",
       "      <th>time_of_year</th>\n",
       "    </tr>\n",
       "  </thead>\n",
       "  <tbody>\n",
       "    <tr>\n",
       "      <th>0</th>\n",
       "      <td>harprma01</td>\n",
       "      <td>Utah Jazz</td>\n",
       "      <td>away</td>\n",
       "      <td>30:00</td>\n",
       "      <td>6.0</td>\n",
       "      <td>12.0</td>\n",
       "      <td>0.500</td>\n",
       "      <td>0.0</td>\n",
       "      <td>0.0</td>\n",
       "      <td>NaN</td>\n",
       "      <td>...</td>\n",
       "      <td>17.0</td>\n",
       "      <td>26.9</td>\n",
       "      <td>109.0</td>\n",
       "      <td>90.0</td>\n",
       "      <td>2003_4174</td>\n",
       "      <td>Utah Jazz at Memphis Grizzlies</td>\n",
       "      <td>2002-12-22</td>\n",
       "      <td>2003</td>\n",
       "      <td>200212220MEM</td>\n",
       "      <td>regular_season</td>\n",
       "    </tr>\n",
       "    <tr>\n",
       "      <th>1</th>\n",
       "      <td>malonka01</td>\n",
       "      <td>Utah Jazz</td>\n",
       "      <td>away</td>\n",
       "      <td>29:00</td>\n",
       "      <td>6.0</td>\n",
       "      <td>7.0</td>\n",
       "      <td>0.857</td>\n",
       "      <td>0.0</td>\n",
       "      <td>0.0</td>\n",
       "      <td>NaN</td>\n",
       "      <td>...</td>\n",
       "      <td>17.2</td>\n",
       "      <td>18.3</td>\n",
       "      <td>146.0</td>\n",
       "      <td>71.0</td>\n",
       "      <td>2003_4174</td>\n",
       "      <td>Utah Jazz at Memphis Grizzlies</td>\n",
       "      <td>2002-12-22</td>\n",
       "      <td>2003</td>\n",
       "      <td>200212220MEM</td>\n",
       "      <td>regular_season</td>\n",
       "    </tr>\n",
       "    <tr>\n",
       "      <th>2</th>\n",
       "      <td>stockjo01</td>\n",
       "      <td>Utah Jazz</td>\n",
       "      <td>away</td>\n",
       "      <td>21:00</td>\n",
       "      <td>1.0</td>\n",
       "      <td>3.0</td>\n",
       "      <td>0.333</td>\n",
       "      <td>0.0</td>\n",
       "      <td>0.0</td>\n",
       "      <td>NaN</td>\n",
       "      <td>...</td>\n",
       "      <td>13.3</td>\n",
       "      <td>16.4</td>\n",
       "      <td>142.0</td>\n",
       "      <td>77.0</td>\n",
       "      <td>2003_4174</td>\n",
       "      <td>Utah Jazz at Memphis Grizzlies</td>\n",
       "      <td>2002-12-22</td>\n",
       "      <td>2003</td>\n",
       "      <td>200212220MEM</td>\n",
       "      <td>regular_season</td>\n",
       "    </tr>\n",
       "    <tr>\n",
       "      <th>3</th>\n",
       "      <td>ostergr01</td>\n",
       "      <td>Utah Jazz</td>\n",
       "      <td>away</td>\n",
       "      <td>19:00</td>\n",
       "      <td>1.0</td>\n",
       "      <td>3.0</td>\n",
       "      <td>0.333</td>\n",
       "      <td>0.0</td>\n",
       "      <td>0.0</td>\n",
       "      <td>NaN</td>\n",
       "      <td>...</td>\n",
       "      <td>0.0</td>\n",
       "      <td>7.2</td>\n",
       "      <td>117.0</td>\n",
       "      <td>88.0</td>\n",
       "      <td>2003_4174</td>\n",
       "      <td>Utah Jazz at Memphis Grizzlies</td>\n",
       "      <td>2002-12-22</td>\n",
       "      <td>2003</td>\n",
       "      <td>200212220MEM</td>\n",
       "      <td>regular_season</td>\n",
       "    </tr>\n",
       "    <tr>\n",
       "      <th>4</th>\n",
       "      <td>cheanca01</td>\n",
       "      <td>Utah Jazz</td>\n",
       "      <td>away</td>\n",
       "      <td>17:00</td>\n",
       "      <td>2.0</td>\n",
       "      <td>5.0</td>\n",
       "      <td>0.400</td>\n",
       "      <td>0.0</td>\n",
       "      <td>0.0</td>\n",
       "      <td>NaN</td>\n",
       "      <td>...</td>\n",
       "      <td>28.6</td>\n",
       "      <td>18.8</td>\n",
       "      <td>70.0</td>\n",
       "      <td>97.0</td>\n",
       "      <td>2003_4174</td>\n",
       "      <td>Utah Jazz at Memphis Grizzlies</td>\n",
       "      <td>2002-12-22</td>\n",
       "      <td>2003</td>\n",
       "      <td>200212220MEM</td>\n",
       "      <td>regular_season</td>\n",
       "    </tr>\n",
       "  </tbody>\n",
       "</table>\n",
       "<p>5 rows × 43 columns</p>\n",
       "</div>"
      ],
      "text/plain": [
       "      player       team team_key     mp   fg   fga    fg%   3p  3pa  3p%  \\\n",
       "0  harprma01  Utah Jazz     away  30:00  6.0  12.0  0.500  0.0  0.0  NaN   \n",
       "1  malonka01  Utah Jazz     away  29:00  6.0   7.0  0.857  0.0  0.0  NaN   \n",
       "2  stockjo01  Utah Jazz     away  21:00  1.0   3.0  0.333  0.0  0.0  NaN   \n",
       "3  ostergr01  Utah Jazz     away  19:00  1.0   3.0  0.333  0.0  0.0  NaN   \n",
       "4  cheanca01  Utah Jazz     away  17:00  2.0   5.0  0.400  0.0  0.0  NaN   \n",
       "\n",
       "        ...        TOV%  USG%   ORtg  DRtg        key  \\\n",
       "0       ...        17.0  26.9  109.0  90.0  2003_4174   \n",
       "1       ...        17.2  18.3  146.0  71.0  2003_4174   \n",
       "2       ...        13.3  16.4  142.0  77.0  2003_4174   \n",
       "3       ...         0.0   7.2  117.0  88.0  2003_4174   \n",
       "4       ...        28.6  18.8   70.0  97.0  2003_4174   \n",
       "\n",
       "                             game       date  season          link  \\\n",
       "0  Utah Jazz at Memphis Grizzlies 2002-12-22    2003  200212220MEM   \n",
       "1  Utah Jazz at Memphis Grizzlies 2002-12-22    2003  200212220MEM   \n",
       "2  Utah Jazz at Memphis Grizzlies 2002-12-22    2003  200212220MEM   \n",
       "3  Utah Jazz at Memphis Grizzlies 2002-12-22    2003  200212220MEM   \n",
       "4  Utah Jazz at Memphis Grizzlies 2002-12-22    2003  200212220MEM   \n",
       "\n",
       "     time_of_year  \n",
       "0  regular_season  \n",
       "1  regular_season  \n",
       "2  regular_season  \n",
       "3  regular_season  \n",
       "4  regular_season  \n",
       "\n",
       "[5 rows x 43 columns]"
      ]
     },
     "execution_count": 50,
     "metadata": {},
     "output_type": "execute_result"
    }
   ],
   "source": [
    "df_box.head()"
   ]
  },
  {
   "cell_type": "markdown",
   "metadata": {},
   "source": [
    "# Begin Random EDA"
   ]
  },
  {
   "cell_type": "markdown",
   "metadata": {},
   "source": [
    "### Do the number of fouls called change from the regular season to the playoffs?"
   ]
  },
  {
   "cell_type": "code",
   "execution_count": 51,
   "metadata": {},
   "outputs": [],
   "source": [
    "#Get the total number of fouls per game, per season and put it to another dataset \n",
    "df_fouls = df_box.groupby(['link', 'time_of_year','season'])['pf'].sum().reset_index()"
   ]
  },
  {
   "cell_type": "code",
   "execution_count": 106,
   "metadata": {},
   "outputs": [
    {
     "data": {
      "text/html": [
       "<div>\n",
       "<style scoped>\n",
       "    .dataframe tbody tr th:only-of-type {\n",
       "        vertical-align: middle;\n",
       "    }\n",
       "\n",
       "    .dataframe tbody tr th {\n",
       "        vertical-align: top;\n",
       "    }\n",
       "\n",
       "    .dataframe thead th {\n",
       "        text-align: right;\n",
       "    }\n",
       "</style>\n",
       "<table border=\"1\" class=\"dataframe\">\n",
       "  <thead>\n",
       "    <tr style=\"text-align: right;\">\n",
       "      <th></th>\n",
       "      <th>link</th>\n",
       "      <th>time_of_year</th>\n",
       "      <th>season</th>\n",
       "      <th>pf</th>\n",
       "    </tr>\n",
       "  </thead>\n",
       "  <tbody>\n",
       "    <tr>\n",
       "      <th>0</th>\n",
       "      <td>199911020CHH</td>\n",
       "      <td>regular_season</td>\n",
       "      <td>2000</td>\n",
       "      <td>56.0</td>\n",
       "    </tr>\n",
       "    <tr>\n",
       "      <th>1</th>\n",
       "      <td>199911020DAL</td>\n",
       "      <td>regular_season</td>\n",
       "      <td>2000</td>\n",
       "      <td>48.0</td>\n",
       "    </tr>\n",
       "    <tr>\n",
       "      <th>2</th>\n",
       "      <td>199911020DEN</td>\n",
       "      <td>regular_season</td>\n",
       "      <td>2000</td>\n",
       "      <td>45.0</td>\n",
       "    </tr>\n",
       "    <tr>\n",
       "      <th>3</th>\n",
       "      <td>199911020HOU</td>\n",
       "      <td>regular_season</td>\n",
       "      <td>2000</td>\n",
       "      <td>49.0</td>\n",
       "    </tr>\n",
       "    <tr>\n",
       "      <th>4</th>\n",
       "      <td>199911020LAC</td>\n",
       "      <td>regular_season</td>\n",
       "      <td>2000</td>\n",
       "      <td>45.0</td>\n",
       "    </tr>\n",
       "  </tbody>\n",
       "</table>\n",
       "</div>"
      ],
      "text/plain": [
       "           link    time_of_year  season    pf\n",
       "0  199911020CHH  regular_season    2000  56.0\n",
       "1  199911020DAL  regular_season    2000  48.0\n",
       "2  199911020DEN  regular_season    2000  45.0\n",
       "3  199911020HOU  regular_season    2000  49.0\n",
       "4  199911020LAC  regular_season    2000  45.0"
      ]
     },
     "execution_count": 106,
     "metadata": {},
     "output_type": "execute_result"
    }
   ],
   "source": [
    "df_fouls.head()"
   ]
  },
  {
   "cell_type": "code",
   "execution_count": 109,
   "metadata": {},
   "outputs": [
    {
     "data": {
      "text/html": [
       "<div>\n",
       "<style scoped>\n",
       "    .dataframe tbody tr th:only-of-type {\n",
       "        vertical-align: middle;\n",
       "    }\n",
       "\n",
       "    .dataframe tbody tr th {\n",
       "        vertical-align: top;\n",
       "    }\n",
       "\n",
       "    .dataframe thead th {\n",
       "        text-align: right;\n",
       "    }\n",
       "</style>\n",
       "<table border=\"1\" class=\"dataframe\">\n",
       "  <thead>\n",
       "    <tr style=\"text-align: right;\">\n",
       "      <th></th>\n",
       "      <th>season</th>\n",
       "      <th>pf_regular</th>\n",
       "      <th>pf_playoffs</th>\n",
       "      <th>pf_difference</th>\n",
       "    </tr>\n",
       "  </thead>\n",
       "  <tbody>\n",
       "    <tr>\n",
       "      <th>0</th>\n",
       "      <td>2000</td>\n",
       "      <td>46.606035</td>\n",
       "      <td>48.464789</td>\n",
       "      <td>-1.858754</td>\n",
       "    </tr>\n",
       "    <tr>\n",
       "      <th>1</th>\n",
       "      <td>2001</td>\n",
       "      <td>44.692372</td>\n",
       "      <td>45.373134</td>\n",
       "      <td>-0.680762</td>\n",
       "    </tr>\n",
       "    <tr>\n",
       "      <th>2</th>\n",
       "      <td>2002</td>\n",
       "      <td>42.439229</td>\n",
       "      <td>47.850746</td>\n",
       "      <td>-5.411517</td>\n",
       "    </tr>\n",
       "    <tr>\n",
       "      <th>3</th>\n",
       "      <td>2003</td>\n",
       "      <td>43.522613</td>\n",
       "      <td>48.722892</td>\n",
       "      <td>-5.200279</td>\n",
       "    </tr>\n",
       "    <tr>\n",
       "      <th>4</th>\n",
       "      <td>2004</td>\n",
       "      <td>42.910310</td>\n",
       "      <td>46.487179</td>\n",
       "      <td>-3.576869</td>\n",
       "    </tr>\n",
       "  </tbody>\n",
       "</table>\n",
       "</div>"
      ],
      "text/plain": [
       "   season  pf_regular  pf_playoffs  pf_difference\n",
       "0    2000   46.606035    48.464789      -1.858754\n",
       "1    2001   44.692372    45.373134      -0.680762\n",
       "2    2002   42.439229    47.850746      -5.411517\n",
       "3    2003   43.522613    48.722892      -5.200279\n",
       "4    2004   42.910310    46.487179      -3.576869"
      ]
     },
     "execution_count": 109,
     "metadata": {},
     "output_type": "execute_result"
    }
   ],
   "source": [
    "#get the average number of fouls per game in the regular season versus the playoffs for all seasons\n",
    "df_pf_per_year = df_fouls.groupby(['time_of_year','season'])['pf'].mean().reset_index()\n",
    "regular_pf = df_pf_per_year[df_pf_per_year['time_of_year']=='regular_season'].drop(columns=['time_of_year']).rename(columns={'pf':'pf_regular'})\n",
    "playoff_pf = df_pf_per_year[df_pf_per_year['time_of_year']=='playoffs'].drop(columns=['time_of_year']).rename(columns={'pf':'pf_playoffs'})\n",
    "\n",
    "df_pf_per_year = pd.merge(regular_pf, playoff_pf, how='left',on='season')\n",
    "df_pf_per_year['pf_difference'] = df_pf_per_year['pf_regular'] - df_pf_per_year['pf_playoffs']\n",
    "df_pf_per_year.head()"
   ]
  },
  {
   "cell_type": "code",
   "execution_count": 125,
   "metadata": {},
   "outputs": [
    {
     "data": {
      "text/plain": [
       "[<matplotlib.lines.Line2D at 0x11c2ed5f8>]"
      ]
     },
     "execution_count": 125,
     "metadata": {},
     "output_type": "execute_result"
    },
    {
     "data": {
      "text/plain": [
       "[<matplotlib.lines.Line2D at 0x119d3d748>]"
      ]
     },
     "execution_count": 125,
     "metadata": {},
     "output_type": "execute_result"
    },
    {
     "data": {
      "text/plain": [
       "Text(0.5,0,'Season')"
      ]
     },
     "execution_count": 125,
     "metadata": {},
     "output_type": "execute_result"
    },
    {
     "data": {
      "text/plain": [
       "Text(0,0.5,'Average fouls per game')"
      ]
     },
     "execution_count": 125,
     "metadata": {},
     "output_type": "execute_result"
    },
    {
     "data": {
      "text/plain": [
       "Text(0.5,1,'Average Fouls Per Game per Season')"
      ]
     },
     "execution_count": 125,
     "metadata": {},
     "output_type": "execute_result"
    },
    {
     "data": {
      "text/plain": [
       "<matplotlib.legend.Legend at 0x11c2edef0>"
      ]
     },
     "execution_count": 125,
     "metadata": {},
     "output_type": "execute_result"
    },
    {
     "data": {
      "image/png": "[encoded data removed]",
      "text/plain": [
       "<Figure size 432x288 with 1 Axes>"
      ]
     },
     "metadata": {},
     "output_type": "display_data"
    }
   ],
   "source": [
    "plt.style.use('ggplot')\n",
    "plt.plot(df_pf_per_year['season'], df_pf_per_year['pf_playoffs'], color='blue', label='Playoffs')\n",
    "plt.plot(df_pf_per_year['season'], df_pf_per_year['pf_regular'], color='red', label='Regular Season')\n",
    "plt.xlabel('Season')\n",
    "plt.ylabel('Average fouls per game')\n",
    "plt.title('Average Fouls Per Game per Season')\n",
    "plt.legend()\n",
    "plt.show()"
   ]
  },
  {
   "cell_type": "code",
   "execution_count": null,
   "metadata": {},
   "outputs": [],
   "source": []
  }
 ],
 "metadata": {
  "kernelspec": {
   "display_name": "Python 3",
   "language": "python",
   "name": "python3"
  },
  "language_info": {
   "codemirror_mode": {
    "name": "ipython",
    "version": 3
   },
   "file_extension": ".py",
   "mimetype": "text/x-python",
   "name": "python",
   "nbconvert_exporter": "python",
   "pygments_lexer": "ipython3",
   "version": "3.6.5"
  }
 },
 "nbformat": 4,
 "nbformat_minor": 2
}
